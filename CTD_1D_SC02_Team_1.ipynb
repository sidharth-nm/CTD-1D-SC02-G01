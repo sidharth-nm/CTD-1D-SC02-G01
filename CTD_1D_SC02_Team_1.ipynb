{
  "nbformat": 4,
  "nbformat_minor": 0,
  "metadata": {
    "colab": {
      "provenance": [],
      "toc_visible": true,
      "include_colab_link": true
    },
    "kernelspec": {
      "name": "python3",
      "display_name": "Python 3"
    },
    "language_info": {
      "name": "python"
    }
  },
  "cells": [
    {
      "cell_type": "markdown",
      "metadata": {
        "id": "view-in-github",
        "colab_type": "text"
      },
      "source": [
        "<a href=\"https://colab.research.google.com/github/sidharth-nm/CTD-1D-SC02-G01/blob/main/CTD_1D_SC02_Team_1.ipynb\" target=\"_parent\"><img src=\"https://colab.research.google.com/assets/colab-badge.svg\" alt=\"Open In Colab\"/></a>"
      ]
    },
    {
      "cell_type": "markdown",
      "source": [
        "**Introduction**\n",
        "\n",
        "We are providing this google colab template for two reasons.\n",
        "\n",
        "1. **This Google Colab notebook is an online computing environment for you to work with various python libraries.** This prevents you from having to handle technical issues that you may encounter if you were working with these libraries on your local computer.\n",
        "\n",
        "2. This notebook also guides you on the commands and steps necessary to work with these libraries."
      ],
      "metadata": {
        "id": "9TGhTFngtZDp"
      }
    },
    {
      "cell_type": "markdown",
      "source": [
        "### Step 0. Before you begin.\n",
        "\n",
        "* We will use **ngrok**, a service that enables you to test your webapp on the internet. We will need to install the ```pyngrok``` library for this.\n",
        "\n",
        "* We will use ```streamlit``` library that enables you to write python code to make the user interface for a webapp.\n",
        "\n",
        "\n",
        "a. Sign up for an ngrok free account. https://dashboard.ngrok.com/\n",
        "\n",
        "\n",
        "b. With your free **ngrok** account, login to the dashboard. Look for the section that says \"Your Authtoken\" from ngrok. Copy that string. https://dashboard.ngrok.com/get-started/your-authtoken\n"
      ],
      "metadata": {
        "id": "4Jl8IMTt9vR-"
      }
    },
    {
      "cell_type": "markdown",
      "source": [
        "### Commands in this notebook.\n",
        "\n",
        "You will notice that there are three kinds of commands in this notebook.\n",
        "\n",
        "1. **Python statement** You will recognize them instantly e.g. ```from ngrok import ngrok```\n",
        "\n",
        "2. **Terminal Commands** Such commands are prefixed with ```!``` e.g ```!ls -ltrc```. Behind each google colab notebook is a Linux-based operating system. If you have a MacBook, you are using such an operating system. You use these terminal commands to give instructions to the operating system to do something for you. We have given you all the necessary commands.\n",
        "\n",
        "3. **Cell Magic Commands** Such commands are prefixed with ```%%``` e.g. ```%% writefile a.py```. Cell magic commands are a feature of Jupyter notebooks and helps you to manage the tasks in each code cell. We have given you all the necessary commands."
      ],
      "metadata": {
        "id": "7GtiCbo_Wn08"
      }
    },
    {
      "cell_type": "markdown",
      "source": [
        "### Let's Begin"
      ],
      "metadata": {
        "id": "CVvdyLysXqXs"
      }
    },
    {
      "cell_type": "markdown",
      "source": [
        "1. Install the ```pyngrok``` library. Run the cell below.\n",
        "\n",
        "Note: in Jupyter, `!` means run this command in the shell (i.e. Terminal in Mac/Linux, Anaconda Prompt in Windows)."
      ],
      "metadata": {
        "id": "CEIAINlN_oRs"
      }
    },
    {
      "cell_type": "code",
      "source": [
        "!pip install pyngrok"
      ],
      "metadata": {
        "id": "EVHqtC15_wad",
        "outputId": "071aa9d7-ed6c-4e03-863a-5d89f3564920",
        "colab": {
          "base_uri": "https://localhost:8080/"
        }
      },
      "execution_count": null,
      "outputs": [
        {
          "output_type": "stream",
          "name": "stdout",
          "text": [
            "Collecting pyngrok\n",
            "  Downloading pyngrok-7.4.0-py3-none-any.whl.metadata (8.1 kB)\n",
            "Requirement already satisfied: PyYAML>=5.1 in /usr/local/lib/python3.12/dist-packages (from pyngrok) (6.0.3)\n",
            "Downloading pyngrok-7.4.0-py3-none-any.whl (25 kB)\n",
            "Installing collected packages: pyngrok\n",
            "Successfully installed pyngrok-7.4.0\n"
          ]
        }
      ]
    },
    {
      "cell_type": "markdown",
      "source": [
        "2. Paste Your Authtoken over ```<your authoken here>``` and remove only the ```#```\n",
        "\n",
        "**Example**. ```!ngrok authtoken 40AbCdEEfffgggghhkkkpppqqrrranyattttt```"
      ],
      "metadata": {
        "id": "BTqDRx8gN3XB"
      }
    },
    {
      "cell_type": "code",
      "source": [
        "!ngrok authtoken 33vlWN9ITI5iIFR8PpU9odlgFyh_57y33rbV5veFxAjDR33Lk"
      ],
      "metadata": {
        "id": "JPe8ya14_czU",
        "colab": {
          "base_uri": "https://localhost:8080/"
        },
        "outputId": "f2fc29dc-6b70-4433-8580-8dbf9e8f18f6"
      },
      "execution_count": null,
      "outputs": [
        {
          "output_type": "stream",
          "name": "stdout",
          "text": [
            "Authtoken saved to configuration file: /root/.config/ngrok/ngrok.yml\n"
          ]
        }
      ]
    },
    {
      "cell_type": "markdown",
      "source": [
        "3. Run the cell below to ensure that your ngrok library is the most updated.\n",
        "\n",
        "- You only need to run this cell once at the start of each session. After that, comment out the python commands in this cell."
      ],
      "metadata": {
        "id": "SYikhb1uADU2"
      }
    },
    {
      "cell_type": "code",
      "source": [
        "from pyngrok import ngrok\n",
        "ngrok.update()"
      ],
      "metadata": {
        "id": "Nn1Ivp1OAHfS",
        "colab": {
          "base_uri": "https://localhost:8080/",
          "height": 316
        },
        "outputId": "bfa9dcad-c040-4981-b3ff-9d795bd6c3a2"
      },
      "execution_count": null,
      "outputs": [
        {
          "output_type": "error",
          "ename": "PyngrokNgrokError",
          "evalue": "ngrok is already running for the \"ngrok_path\": /root/.config/ngrok/ngrok",
          "traceback": [
            "\u001b[0;31m---------------------------------------------------------------------------\u001b[0m",
            "\u001b[0;31mPyngrokNgrokError\u001b[0m                         Traceback (most recent call last)",
            "\u001b[0;32m/tmp/ipython-input-3274564150.py\u001b[0m in \u001b[0;36m<cell line: 0>\u001b[0;34m()\u001b[0m\n\u001b[1;32m      1\u001b[0m \u001b[0;32mfrom\u001b[0m \u001b[0mpyngrok\u001b[0m \u001b[0;32mimport\u001b[0m \u001b[0mngrok\u001b[0m\u001b[0;34m\u001b[0m\u001b[0;34m\u001b[0m\u001b[0m\n\u001b[0;32m----> 2\u001b[0;31m \u001b[0mngrok\u001b[0m\u001b[0;34m.\u001b[0m\u001b[0mupdate\u001b[0m\u001b[0;34m(\u001b[0m\u001b[0;34m)\u001b[0m\u001b[0;34m\u001b[0m\u001b[0;34m\u001b[0m\u001b[0m\n\u001b[0m",
            "\u001b[0;32m/usr/local/lib/python3.12/dist-packages/pyngrok/ngrok.py\u001b[0m in \u001b[0;36mupdate\u001b[0;34m(pyngrok_config)\u001b[0m\n\u001b[1;32m    564\u001b[0m     \u001b[0minstall_ngrok\u001b[0m\u001b[0;34m(\u001b[0m\u001b[0mpyngrok_config\u001b[0m\u001b[0;34m)\u001b[0m\u001b[0;34m\u001b[0m\u001b[0;34m\u001b[0m\u001b[0m\n\u001b[1;32m    565\u001b[0m \u001b[0;34m\u001b[0m\u001b[0m\n\u001b[0;32m--> 566\u001b[0;31m     \u001b[0;32mreturn\u001b[0m \u001b[0mprocess\u001b[0m\u001b[0;34m.\u001b[0m\u001b[0mcapture_run_process\u001b[0m\u001b[0;34m(\u001b[0m\u001b[0mpyngrok_config\u001b[0m\u001b[0;34m.\u001b[0m\u001b[0mngrok_path\u001b[0m\u001b[0;34m,\u001b[0m \u001b[0;34m[\u001b[0m\u001b[0;34m\"update\"\u001b[0m\u001b[0;34m]\u001b[0m\u001b[0;34m)\u001b[0m\u001b[0;34m\u001b[0m\u001b[0;34m\u001b[0m\u001b[0m\n\u001b[0m\u001b[1;32m    567\u001b[0m \u001b[0;34m\u001b[0m\u001b[0m\n\u001b[1;32m    568\u001b[0m \u001b[0;34m\u001b[0m\u001b[0m\n",
            "\u001b[0;32m/usr/local/lib/python3.12/dist-packages/pyngrok/process.py\u001b[0m in \u001b[0;36mcapture_run_process\u001b[0;34m(ngrok_path, args)\u001b[0m\n\u001b[1;32m    328\u001b[0m     \u001b[0;34m:\u001b[0m\u001b[0mraises\u001b[0m\u001b[0;34m:\u001b[0m \u001b[0mCalledProcessError\u001b[0m \u001b[0mAn\u001b[0m \u001b[0merror\u001b[0m \u001b[0moccurred\u001b[0m \u001b[0;32mwhile\u001b[0m \u001b[0mexecuting\u001b[0m \u001b[0mthe\u001b[0m \u001b[0mprocess\u001b[0m\u001b[0;34m.\u001b[0m\u001b[0;34m\u001b[0m\u001b[0;34m\u001b[0m\u001b[0m\n\u001b[1;32m    329\u001b[0m     \"\"\"\n\u001b[0;32m--> 330\u001b[0;31m     \u001b[0m_validate_path\u001b[0m\u001b[0;34m(\u001b[0m\u001b[0mngrok_path\u001b[0m\u001b[0;34m)\u001b[0m\u001b[0;34m\u001b[0m\u001b[0;34m\u001b[0m\u001b[0m\n\u001b[0m\u001b[1;32m    331\u001b[0m \u001b[0;34m\u001b[0m\u001b[0m\n\u001b[1;32m    332\u001b[0m     \u001b[0mstart\u001b[0m \u001b[0;34m=\u001b[0m \u001b[0;34m[\u001b[0m\u001b[0mngrok_path\u001b[0m\u001b[0;34m]\u001b[0m \u001b[0;34m+\u001b[0m \u001b[0margs\u001b[0m\u001b[0;34m\u001b[0m\u001b[0;34m\u001b[0m\u001b[0m\n",
            "\u001b[0;32m/usr/local/lib/python3.12/dist-packages/pyngrok/process.py\u001b[0m in \u001b[0;36m_validate_path\u001b[0;34m(ngrok_path)\u001b[0m\n\u001b[1;32m    357\u001b[0m \u001b[0;34m\u001b[0m\u001b[0m\n\u001b[1;32m    358\u001b[0m     \u001b[0;32mif\u001b[0m \u001b[0mngrok_path\u001b[0m \u001b[0;32min\u001b[0m \u001b[0m_current_processes\u001b[0m\u001b[0;34m:\u001b[0m\u001b[0;34m\u001b[0m\u001b[0;34m\u001b[0m\u001b[0m\n\u001b[0;32m--> 359\u001b[0;31m         \u001b[0;32mraise\u001b[0m \u001b[0mPyngrokNgrokError\u001b[0m\u001b[0;34m(\u001b[0m\u001b[0;34mf\"ngrok is already running for the \\\"ngrok_path\\\": {ngrok_path}\"\u001b[0m\u001b[0;34m)\u001b[0m\u001b[0;34m\u001b[0m\u001b[0;34m\u001b[0m\u001b[0m\n\u001b[0m\u001b[1;32m    360\u001b[0m \u001b[0;34m\u001b[0m\u001b[0m\n\u001b[1;32m    361\u001b[0m \u001b[0;34m\u001b[0m\u001b[0m\n",
            "\u001b[0;31mPyngrokNgrokError\u001b[0m: ngrok is already running for the \"ngrok_path\": /root/.config/ngrok/ngrok"
          ]
        }
      ]
    },
    {
      "cell_type": "markdown",
      "source": [
        "4. Run the following cell to install the  ```streamlit``` library."
      ],
      "metadata": {
        "id": "xMLUqRKU_6M-"
      }
    },
    {
      "cell_type": "code",
      "source": [
        "!pip install streamlit -q"
      ],
      "metadata": {
        "id": "EjF78-kO_5xa",
        "colab": {
          "base_uri": "https://localhost:8080/"
        },
        "outputId": "3dd6b0c0-6877-44dc-ebf5-f2b13526a414"
      },
      "execution_count": null,
      "outputs": [
        {
          "output_type": "stream",
          "name": "stdout",
          "text": [
            "\u001b[2K   \u001b[90m━━━━━━━━━━━━━━━━━━━━━━━━━━━━━━━━━━━━━━━━\u001b[0m \u001b[32m10.1/10.1 MB\u001b[0m \u001b[31m60.3 MB/s\u001b[0m eta \u001b[36m0:00:00\u001b[0m\n",
            "\u001b[2K   \u001b[90m━━━━━━━━━━━━━━━━━━━━━━━━━━━━━━━━━━━━━━━━\u001b[0m \u001b[32m6.9/6.9 MB\u001b[0m \u001b[31m90.5 MB/s\u001b[0m eta \u001b[36m0:00:00\u001b[0m\n",
            "\u001b[?25h"
          ]
        }
      ]
    },
    {
      "cell_type": "markdown",
      "source": [
        "### Step 1. Build a simple webapp by writing code.  "
      ],
      "metadata": {
        "id": "hMMS9iRAAu_Q"
      }
    },
    {
      "cell_type": "markdown",
      "source": [
        "1. Functions that do calculations for your app should be stored in a file for the code in **mylibrary.py** to call. Here we store one function in a file called **mylibrary.py**.\n",
        "\n",
        "Note: In Jupyter, we use `%%` to run *magic commands* for the cell. For example, we can add `%%timeit` at the start of a cell to check how long our code takes to run. In the cell below, `%%writefile` puts our cell code into the specified file."
      ],
      "metadata": {
        "id": "bYwEK2LOPEtr"
      }
    },
    {
      "cell_type": "code",
      "source": [
        "%%writefile mylibrary.py\n",
        "\n",
        "def calculate_total( oranges, apples):\n",
        "    return 2*oranges + 3*apples\n",
        "\n",
        "def plastic_bags_price(bags):\n",
        "    \"\"\"one bag 0.1, two bags 0.4, three bags 0.9 \"\"\"\n",
        "    return 0.1*bags*bags"
      ],
      "metadata": {
        "id": "TDNHz7FeG3U6",
        "colab": {
          "base_uri": "https://localhost:8080/"
        },
        "outputId": "74c29050-0f28-48a6-e687-91fc216f85a0"
      },
      "execution_count": null,
      "outputs": [
        {
          "output_type": "stream",
          "name": "stdout",
          "text": [
            "Writing mylibrary.py\n"
          ]
        }
      ]
    },
    {
      "cell_type": "markdown",
      "source": [
        "2. Your ```streamlit``` webapp is usually stored in a python file called **app.py**. The first line in this cell ```%%writefile app.py``` creates this python file which contains all the code in this file.\n",
        "\n",
        "- Study the statements below and see how each python statement creates a different widget. Also, observe the role of ```st.session_state``` and how it is linked to the ```key``` attribute of each widget."
      ],
      "metadata": {
        "id": "FpZTRtznA5Yu"
      }
    },
    {
      "cell_type": "code",
      "source": [
        "%%writefile app.py\n",
        "\n",
        "import streamlit as st\n",
        "import mylibrary\n",
        "\n",
        "st.write(\"Hello!\")\n",
        "st.text_input(\"Enter the quantity of African Oranges $2 each\", key=\"oranges\")\n",
        "st.number_input(\"Enter the quantity of Fuji Apples $3 each\", min_value=0, max_value=10, step=1, key=\"apples\")\n",
        "st.slider(\"How many plastic bags do you want\", min_value=0, max_value=3, step=1, key=\"bags\")\n",
        "bags_cost = mylibrary.plastic_bags_price(st.session_state.bags)\n",
        "st.write(\"Your plastic bags will cost $\" + str(bags_cost))\n",
        "\n",
        "if st.button('Get Total'):\n",
        "    st.write('Calculating Your Total ...')\n",
        "    oranges = int(st.session_state.oranges)\n",
        "    apples = int(st.session_state.apples)\n",
        "    result = mylibrary.calculate_total(oranges, apples)\n",
        "    total = bags_cost + result\n",
        "    st.write('Please pay {:.2f}'.format(total))\n",
        "else:\n",
        "    st.write('Please Key In The Quantity')"
      ],
      "metadata": {
        "id": "7nReqBXB_1Gr",
        "colab": {
          "base_uri": "https://localhost:8080/"
        },
        "outputId": "47c48540-f145-4379-dc97-23e075f2709a"
      },
      "execution_count": null,
      "outputs": [
        {
          "output_type": "stream",
          "name": "stdout",
          "text": [
            "Overwriting app.py\n"
          ]
        }
      ]
    },
    {
      "cell_type": "markdown",
      "source": [
        "3. The files are stored somewhere on your google account's filesystem. To see the files, run the following terminal commands."
      ],
      "metadata": {
        "id": "S2YA7-GLR_vS"
      }
    },
    {
      "cell_type": "markdown",
      "source": [
        "```pwd``` - **p**rint **w**orking **d**irectory"
      ],
      "metadata": {
        "id": "-3PJ5rtbSIuJ"
      }
    },
    {
      "cell_type": "code",
      "source": [
        "!pwd"
      ],
      "metadata": {
        "id": "IV3AO4HzSIXP",
        "colab": {
          "base_uri": "https://localhost:8080/"
        },
        "outputId": "3aad2c85-05c2-40e0-e999-6e287ddcf51f"
      },
      "execution_count": null,
      "outputs": [
        {
          "output_type": "stream",
          "name": "stdout",
          "text": [
            "/content/drive/MyDrive/CTD_1D\n"
          ]
        }
      ]
    },
    {
      "cell_type": "markdown",
      "source": [
        "```ls``` - **l**ist content**s** . The ```-ltrc``` flag specifies how the contents of the folder are displayed."
      ],
      "metadata": {
        "id": "5-nkvQRRSezC"
      }
    },
    {
      "cell_type": "code",
      "source": [
        "!ls -ltrc"
      ],
      "metadata": {
        "id": "kIocOZ7MSDov",
        "colab": {
          "base_uri": "https://localhost:8080/"
        },
        "outputId": "50845b0d-0919-4524-f753-505d7cc5215f"
      },
      "execution_count": null,
      "outputs": [
        {
          "output_type": "stream",
          "name": "stdout",
          "text": [
            "total 5\n",
            "-rw------- 1 root root 3188 Oct 12 06:23 Database.json\n",
            "-rw------- 1 root root  806 Oct 12 06:44 app.py\n"
          ]
        }
      ]
    },
    {
      "cell_type": "markdown",
      "source": [
        "Write python code to open the file **mylibrary.py** and display its contents. You learn how to do this in **Lesson 6**."
      ],
      "metadata": {
        "id": "wOdKFjW2SmRU"
      }
    },
    {
      "cell_type": "code",
      "source": [
        "with open('mylibrary.py') as f:\n",
        "  print(f.read())"
      ],
      "metadata": {
        "id": "9hUGme2JR3Kd",
        "colab": {
          "base_uri": "https://localhost:8080/"
        },
        "outputId": "d62a268b-1eaf-4b20-d8a5-a84147f224fa"
      },
      "execution_count": null,
      "outputs": [
        {
          "output_type": "stream",
          "name": "stdout",
          "text": [
            "\n",
            "def calculate_total( oranges, apples):\n",
            "    return 2*oranges + 3*apples\n",
            "\n",
            "def plastic_bags_price(bags):\n",
            "    \"\"\"one bag 0.1, two bags 0.4, three bags 0.9 \"\"\"\n",
            "    return 0.1*bags*bags\n",
            "\n"
          ]
        }
      ]
    },
    {
      "cell_type": "markdown",
      "source": [
        "Write similar code to display the contents of **app.py**."
      ],
      "metadata": {
        "id": "XJLsZovmStv7"
      }
    },
    {
      "cell_type": "code",
      "source": [],
      "metadata": {
        "id": "Fk4RDKo_StBU"
      },
      "execution_count": null,
      "outputs": []
    },
    {
      "cell_type": "markdown",
      "source": [
        "3. Now we have start a streamlit server to *serve* our webpage to users.\n",
        "\n",
        "- In the below command:\n",
        "  - `streamlit run app.py` tells streamlit to start a server.\n",
        "  - `--server.port 5011` starts it on port 5011 (the `--` is for options).\n",
        "  - `nohup` (no hang up) makes sure that the server doesn't die when we close the Colab connection\n",
        "  - `&` sends the command to the background so the notebook doesn't wait for the server to finish (since the server is supposed to keep running)"
      ],
      "metadata": {
        "id": "ine9w28zPgo4"
      }
    },
    {
      "cell_type": "code",
      "source": [
        "!nohup streamlit run app.py --server.port 5011 &"
      ],
      "metadata": {
        "id": "WNvmY0hBPoEI",
        "colab": {
          "base_uri": "https://localhost:8080/"
        },
        "outputId": "85a0bb8f-18bd-4850-ede9-016e652b7819"
      },
      "execution_count": null,
      "outputs": [
        {
          "output_type": "stream",
          "name": "stdout",
          "text": [
            "nohup: appending output to 'nohup.out'\n"
          ]
        }
      ]
    },
    {
      "cell_type": "markdown",
      "source": [
        "4. Next, we run some ngrok functions so that this server can be accessed on the internet. You should see a URL that you can click on. Click it - that's your webapp and interact with it to see that it works as it should."
      ],
      "metadata": {
        "id": "6rsAV1N4BR_I"
      }
    },
    {
      "cell_type": "code",
      "source": [
        "from pyngrok import ngrok\n",
        "\n",
        "# Start ngrok tunnel to expose the Streamlit server\n",
        "# Use the 'addr' argument to specify the address and port.\n",
        "ngrok_tunnel = ngrok.connect(addr='5011', proto='http', bind_tls=True)\n",
        "\n",
        "# Print the URL of the ngrok tunnel\n",
        "print(' * Tunnel URL:', ngrok_tunnel.public_url)"
      ],
      "metadata": {
        "id": "mmhE69ucBhES",
        "colab": {
          "base_uri": "https://localhost:8080/"
        },
        "outputId": "b10f21d1-13c6-4239-ce12-a77f271c3459"
      },
      "execution_count": null,
      "outputs": [
        {
          "output_type": "stream",
          "name": "stdout",
          "text": [
            " * Tunnel URL: https://libratory-confined-edmundo.ngrok-free.dev\n"
          ]
        }
      ]
    },
    {
      "cell_type": "markdown",
      "source": [
        "5. Make a change to any string in ```app.py``` and run the cell e.g. change ```African``` to any other word. On your webapp, you should see a prompt for you to reload. Follow it and see that the change is made.\n",
        "\n",
        "6. Note that the free service for ```ngrok``` means that your URL in step 4 is not permanent. Once it is no longer accessible, go to the top of your notebook and select **Restart Session and Run All**.\n",
        "\n",
        "7. You may also encounter errors displaying the URL in Step 4. If this happens, go to https://dashboard.ngrok.com/agents, click on the agent shown (look for the three dots) and select delete."
      ],
      "metadata": {
        "id": "zroa5lUqY66b"
      }
    },
    {
      "cell_type": "markdown",
      "source": [
        "### Step 2. Learn on your own."
      ],
      "metadata": {
        "id": "dX8cVmGNO6lN"
      }
    },
    {
      "cell_type": "markdown",
      "source": [
        "Now that you can build your own webapp, learn about the various widgets available in Streamlit and experiment with them.\n",
        "https://docs.streamlit.io/develop/api-reference/widgets\n"
      ],
      "metadata": {
        "id": "A1IRm5ApO-kv"
      }
    },
    {
      "cell_type": "markdown",
      "source": [
        "### Alternative: You could choose to run this project locally on your laptop.\n",
        "\n",
        "If you just want to run this on your local machine, it's easier and you don't need `ngrok`.\n",
        "\n",
        "1. From your shell (Terminal / Anaconda Prompt), install streamlit using `pip install streamlit`\n",
        "2. Create a project folder for the `.py` files in this project\n",
        "3. Put the template code from Step 1.1 in `mylibrary.py`\n",
        "4. Put the template code from Step 1.2 in `app.py`\n",
        "5. Edit the files as you wish\n",
        "6. To start streamlit, open your shell (Terminal / Anaconda Prompt) and go to your project folder. You can use `cd xxxx` to **c**hange **d**irectory to folder `xxxx`. To go up one directory level, use `cd ..`\n",
        "7. When you are in the project folder, run `streamlit run app.py`\n",
        "8. The server should start (on your computer) and take you to the webpage in your browser."
      ],
      "metadata": {
        "id": "C6mbpJmzX2Ii"
      }
    },
    {
      "cell_type": "markdown",
      "source": [
        "### Resources used\n",
        "\n",
        "The writer of this assignment spoke to Prof Kenny Lu who pointed him to the **ngrok** service and shared some resources used in another SUTD course. The writer then read this [article from medium.com](https://medium.com/@mrcoffeeai/running-streamlit-on-google-colab-with-pyngrok-24895581df43) and used the code given. The writer also looked at the Streamlit documentation, in the [section for beginners](https://docs.streamlit.io/get-started/fundamentals/main-concepts). Faculty and UTAs teaching CTD helped to give feedback."
      ],
      "metadata": {
        "id": "p4cQLJkHR3kM"
      }
    },
    {
      "cell_type": "markdown",
      "source": [
        "\n",
        "\n",
        "---------\n",
        ">\n",
        "> Use this notebook as a template for your project. You may add cells if you have more code to write. Do not delete any cells, every aspect is important.\n",
        ">\n",
        "---------\n",
        "\n",
        "\n"
      ],
      "metadata": {
        "id": "aEwqNJwjIrNt"
      }
    },
    {
      "cell_type": "markdown",
      "source": [
        "#Set up"
      ],
      "metadata": {
        "id": "j6y9Wo9uM2ew"
      }
    },
    {
      "cell_type": "code",
      "source": [
        "#To run to get files and cd\n",
        "import shutil,os\n",
        "\n",
        "# Delete the entire sample_data folder\n",
        "folder_to_delete = \"sample_data\"\n",
        "if os.path.exists(folder_to_delete):\n",
        "    shutil.rmtree(folder_to_delete)\n",
        "    print(f\"Deleted folder: {folder_to_delete}\")\n",
        "else:\n",
        "    print(f\"Folder not found: {folder_to_delete}\")\n",
        "\n",
        "from google.colab import drive\n",
        "drive.mount('/content/drive/')\n",
        "os.chdir('/content/drive/MyDrive/CTD_1D')\n"
      ],
      "metadata": {
        "colab": {
          "base_uri": "https://localhost:8080/"
        },
        "id": "iUl2DHT1NAht",
        "outputId": "a3b5954d-265c-4cfb-a8ae-c582ddb7f996"
      },
      "execution_count": null,
      "outputs": [
        {
          "output_type": "stream",
          "name": "stdout",
          "text": [
            "Folder not found: sample_data\n",
            "Drive already mounted at /content/drive/; to attempt to forcibly remount, call drive.mount(\"/content/drive/\", force_remount=True).\n"
          ]
        }
      ]
    },
    {
      "cell_type": "code",
      "source": [
        "!ngrok authtoken 33vlWN9ITI5iIFR8PpU9odlgFyh_57y33rbV5veFxAjDR33Lk"
      ],
      "metadata": {
        "id": "A3lxREQteJZk"
      },
      "execution_count": null,
      "outputs": []
    },
    {
      "cell_type": "markdown",
      "source": [
        "#Code\n",
        "As we will be using multiple cells of code to append/overwrite the files, each file has its own section for us to append/overwrite the file neatly."
      ],
      "metadata": {
        "id": "Zb09_NrOegW2"
      }
    },
    {
      "cell_type": "markdown",
      "source": [
        "##App.py"
      ],
      "metadata": {
        "id": "ZdJNFjyohhb6"
      }
    },
    {
      "cell_type": "code",
      "source": [
        "%%writefile app.py\n",
        "import login_frontend, create_account_frontend, shopping_frontend, payment_frontend, confirmation_frontend, data_handler\n",
        "import streamlit as st\n",
        "\n",
        "st.rende (login_frontend.test())\n",
        "def open_page():\n"
      ],
      "metadata": {
        "colab": {
          "base_uri": "https://localhost:8080/"
        },
        "id": "-MUaiZGde2hd",
        "outputId": "5d563cd8-457e-47c9-f578-7ad328c47c29"
      },
      "execution_count": null,
      "outputs": [
        {
          "output_type": "stream",
          "name": "stdout",
          "text": [
            "Overwriting app.py\n"
          ]
        }
      ]
    },
    {
      "cell_type": "markdown",
      "source": [
        "##login_frontend.py"
      ],
      "metadata": {
        "id": "rFf39Sk6o7rC"
      }
    },
    {
      "cell_type": "code",
      "source": [
        "%%writefile login_frontend.py\n",
        "def test():\n",
        "  return (\"deded\")"
      ],
      "metadata": {
        "colab": {
          "base_uri": "https://localhost:8080/"
        },
        "id": "Jq1RGJv9j4me",
        "outputId": "091ada0b-dd77-4d2c-c08b-f170a4b3643b"
      },
      "execution_count": null,
      "outputs": [
        {
          "output_type": "stream",
          "name": "stdout",
          "text": [
            "Overwriting login_frontend.py\n"
          ]
        }
      ]
    },
    {
      "cell_type": "markdown",
      "source": [
        "##login_backend.py"
      ],
      "metadata": {
        "id": "vOYRbMRGp7rA"
      }
    },
    {
      "cell_type": "code",
      "source": [
        "%%writefile login_backend.py"
      ],
      "metadata": {
        "colab": {
          "base_uri": "https://localhost:8080/"
        },
        "id": "GwoiqEhwl2Th",
        "outputId": "7f2797db-7b23-404e-e8bb-231b4334cf92"
      },
      "execution_count": null,
      "outputs": [
        {
          "output_type": "stream",
          "name": "stdout",
          "text": [
            "Writing login_backend.py\n"
          ]
        }
      ]
    },
    {
      "cell_type": "markdown",
      "source": [
        "##create_account_frontend.py"
      ],
      "metadata": {
        "id": "UVvNpUVap_FO"
      }
    },
    {
      "cell_type": "code",
      "source": [
        "%%writefile create_account_frontend.py"
      ],
      "metadata": {
        "colab": {
          "base_uri": "https://localhost:8080/"
        },
        "id": "R-E2zbgimphI",
        "outputId": "c00945b3-98de-4bb7-fd2f-23a62e8fa99d"
      },
      "execution_count": null,
      "outputs": [
        {
          "output_type": "stream",
          "name": "stdout",
          "text": [
            "Writing create_account_frontend.py\n"
          ]
        }
      ]
    },
    {
      "cell_type": "markdown",
      "source": [
        "##create_account_backend.py"
      ],
      "metadata": {
        "id": "9EE3DmgMqPES"
      }
    },
    {
      "cell_type": "code",
      "source": [
        "%%writefile create_account_backend.py"
      ],
      "metadata": {
        "colab": {
          "base_uri": "https://localhost:8080/"
        },
        "id": "qbpOuLkuk5RK",
        "outputId": "6957d3a3-512d-460b-c4c7-7ef43c919a25"
      },
      "execution_count": null,
      "outputs": [
        {
          "output_type": "stream",
          "name": "stdout",
          "text": [
            "Writing create_account_backend.py\n"
          ]
        }
      ]
    },
    {
      "cell_type": "markdown",
      "source": [
        "##shopping_frontend.py"
      ],
      "metadata": {
        "id": "fowt2QytqabE"
      }
    },
    {
      "cell_type": "code",
      "source": [
        "%%writefile shopping_frontend.py"
      ],
      "metadata": {
        "colab": {
          "base_uri": "https://localhost:8080/"
        },
        "id": "K4v7orzNklLi",
        "outputId": "79e176a3-10b6-4544-b7b6-ca9bd4a5277e"
      },
      "execution_count": null,
      "outputs": [
        {
          "output_type": "stream",
          "name": "stdout",
          "text": [
            "Writing shopping_frontend.py\n"
          ]
        }
      ]
    },
    {
      "cell_type": "markdown",
      "source": [
        "##shopping_backend.py"
      ],
      "metadata": {
        "id": "U7CAgH6mqyQy"
      }
    },
    {
      "cell_type": "code",
      "source": [
        "%%writefile shopping_backend.py"
      ],
      "metadata": {
        "colab": {
          "base_uri": "https://localhost:8080/"
        },
        "id": "4Ny9yf6In0ry",
        "outputId": "c2d04d4b-2cba-4d34-c86a-6bf92b826b12"
      },
      "execution_count": null,
      "outputs": [
        {
          "output_type": "stream",
          "name": "stdout",
          "text": [
            "Writing shopping_backend.py\n"
          ]
        }
      ]
    },
    {
      "cell_type": "markdown",
      "source": [
        "##payment_frontend.py"
      ],
      "metadata": {
        "id": "iYEJooKEq0xb"
      }
    },
    {
      "cell_type": "code",
      "source": [
        "%%writefile payment_frontend.py"
      ],
      "metadata": {
        "colab": {
          "base_uri": "https://localhost:8080/"
        },
        "id": "rWSQsA6AnVF8",
        "outputId": "f823360c-fdf1-4bbb-9c6b-d0a001a88f9c"
      },
      "execution_count": null,
      "outputs": [
        {
          "output_type": "stream",
          "name": "stdout",
          "text": [
            "Writing payment_frontend.py\n"
          ]
        }
      ]
    },
    {
      "cell_type": "markdown",
      "source": [
        "##payment_backend.py"
      ],
      "metadata": {
        "id": "KTKNBxjWq4ML"
      }
    },
    {
      "cell_type": "code",
      "source": [
        "%%writefile payment_backend.py"
      ],
      "metadata": {
        "colab": {
          "base_uri": "https://localhost:8080/"
        },
        "id": "1RhycKPLoJ2Z",
        "outputId": "66093706-3efe-4626-ab29-d50dbfcf2c84"
      },
      "execution_count": null,
      "outputs": [
        {
          "output_type": "stream",
          "name": "stdout",
          "text": [
            "Writing payment_backend.py\n"
          ]
        }
      ]
    },
    {
      "cell_type": "markdown",
      "source": [
        "##confirmation_frontend.py"
      ],
      "metadata": {
        "id": "12Dji03rq7Hw"
      }
    },
    {
      "cell_type": "code",
      "source": [
        "%%writefile confirmation_frontend.py"
      ],
      "metadata": {
        "colab": {
          "base_uri": "https://localhost:8080/"
        },
        "id": "8tS9PqkLnb-r",
        "outputId": "7e8f770a-54fc-4ebf-98b5-d25ed8b5ebd4"
      },
      "execution_count": null,
      "outputs": [
        {
          "output_type": "stream",
          "name": "stdout",
          "text": [
            "Writing confirmation_frontend.py\n"
          ]
        }
      ]
    },
    {
      "cell_type": "markdown",
      "source": [
        "##confirmation_backend.py"
      ],
      "metadata": {
        "id": "qkUSOeLxq92H"
      }
    },
    {
      "cell_type": "code",
      "source": [
        "%%writefile confirmation_backend.py"
      ],
      "metadata": {
        "colab": {
          "base_uri": "https://localhost:8080/"
        },
        "id": "PnKuI2dtogpg",
        "outputId": "4596b413-8c73-4a9f-f9d6-0e3495aa8814"
      },
      "execution_count": null,
      "outputs": [
        {
          "output_type": "stream",
          "name": "stdout",
          "text": [
            "Overwriting confirmation_backend.py\n"
          ]
        }
      ]
    },
    {
      "cell_type": "code",
      "source": [],
      "metadata": {
        "id": "WmcwEzFYrlh2"
      },
      "execution_count": null,
      "outputs": []
    },
    {
      "cell_type": "markdown",
      "source": [
        "##writefile data_handler.py"
      ],
      "metadata": {
        "id": "CxVcgwsZrEF4"
      }
    },
    {
      "cell_type": "code",
      "source": [
        "# #Class objects\n",
        "# class User:\n",
        "#   #create empty user\n",
        "#   def _init_(self):\n",
        "#     _username = \"\"\n",
        "#     _password = \"\"\n",
        "\n",
        "#   #create user with assigned attributes\n",
        "#   def _init_(self, username, password):\n",
        "#     _username = username\n",
        "#     _password = password\n"
      ],
      "metadata": {
        "id": "ZgVF8__8BCnA"
      },
      "execution_count": null,
      "outputs": []
    },
    {
      "cell_type": "code",
      "source": [
        "%%writefile data_handler.py\n",
        "import os,io,json,copy\n",
        "\n",
        "DB_FILE = \"Database.json\"\n",
        "DB_FILE_PATH = os.path.join(os.getcwd(), DB_FILE)\n",
        "\n",
        "#GET database\n",
        "def get_data():\n",
        "  with open(DB_FILE_PATH, 'r') as f:\n",
        "    # Read the file content before deserialising all data\n",
        "    data_dict = json.loads(f.read())\n",
        "  print(data_dict)\n",
        "  return data_dict\n",
        "\n",
        "#GET filtered list of book by a key\n",
        "def get_filtered_books_list(key, value):\n",
        "  filtered_books = []\n",
        "\n",
        "  #return list of users who match the input\n",
        "  for book in books:\n",
        "    if book[key] == value:\n",
        "      filtered_books.append(book)\n",
        "  return filtered_books\n",
        "\n",
        "#GET filtered list of users by a key\n",
        "def get_filtered_users_list(key, value):\n",
        "  filtered_users = []\n",
        "\n",
        "  #return list of users who match the input\n",
        "  for user in users:\n",
        "    if user[key] == value:\n",
        "      filtered_users.append(user)\n",
        "  return filtered_users\n",
        "\n",
        "#CREATE user data\n",
        "def user(username, password):\n",
        "  return {\n",
        "      \"username\": username,\n",
        "      \"password\": password\n",
        "  }\n",
        "\n",
        "#ADD user data to database\n",
        "def add_user(new_user):\n",
        "  new_users_list = copy.deepcopy(users)\n",
        "  print(new_users_list)\n",
        "  new_users_list.append(new_user)\n",
        "  update_database(database, new_users_list)\n",
        "\n",
        "#UPDATE the databases\n",
        "def update_database(database, new_users = None):\n",
        "  #update the dictionary variables\n",
        "  if(new_users != None):\n",
        "    database[\"users\"] = new_users\n",
        "  books = database[\"books\"]\n",
        "  users = database[\"users\"]\n",
        "\n",
        "  #serialise the data\n",
        "  database_json_string = json.dumps(database, indent=4)\n",
        "  #update the db in the json file\n",
        "  with open(DB_FILE_PATH, \"w\") as f:\n",
        "    f.write(database_json_string)\n",
        "\n",
        "database = get_data()\n",
        "books = database[\"books\"]\n",
        "users = database[\"users\"]\n"
      ],
      "metadata": {
        "colab": {
          "base_uri": "https://localhost:8080/"
        },
        "id": "2x2wwHA0hXDl",
        "outputId": "2612c033-a5b3-4e43-8df1-a13e6fc34fca"
      },
      "execution_count": null,
      "outputs": [
        {
          "output_type": "stream",
          "name": "stdout",
          "text": [
            "Overwriting data_handler.py\n"
          ]
        }
      ]
    },
    {
      "cell_type": "markdown",
      "source": [
        "#Run Web"
      ],
      "metadata": {
        "id": "nFEbzlDMeVHV"
      }
    },
    {
      "cell_type": "code",
      "source": [
        "!nohup streamlit run app.py --server.port 5011 &"
      ],
      "metadata": {
        "colab": {
          "base_uri": "https://localhost:8080/"
        },
        "id": "rSOierzqjg-x",
        "outputId": "1275db4c-abaf-4037-ba4c-dfd57f46205b"
      },
      "execution_count": null,
      "outputs": [
        {
          "output_type": "stream",
          "name": "stdout",
          "text": [
            "nohup: appending output to 'nohup.out'\n"
          ]
        }
      ]
    },
    {
      "cell_type": "code",
      "source": [
        "from pyngrok import ngrok\n",
        "\n",
        "# Start ngrok tunnel to expose the Streamlit server\n",
        "# Use the 'addr' argument to specify the address and port.\n",
        "ngrok_tunnel = ngrok.connect(addr='5011', proto='http', bind_tls=True)\n",
        "\n",
        "# Print the URL of the ngrok tunnel\n",
        "print(' * Tunnel URL:', ngrok_tunnel.public_url)"
      ],
      "metadata": {
        "colab": {
          "base_uri": "https://localhost:8080/"
        },
        "id": "kY09fisbduUj",
        "outputId": "8b38d723-81b9-4707-e8e1-29f10f988cbd"
      },
      "execution_count": null,
      "outputs": [
        {
          "output_type": "stream",
          "name": "stdout",
          "text": [
            " * Tunnel URL: https://libratory-confined-edmundo.ngrok-free.dev\n"
          ]
        }
      ]
    },
    {
      "cell_type": "code",
      "source": [],
      "metadata": {
        "id": "khBMUpFlr5UV"
      },
      "execution_count": null,
      "outputs": []
    }
  ]
}