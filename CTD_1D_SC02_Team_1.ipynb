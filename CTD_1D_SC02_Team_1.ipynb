{
  "cells": [
    {
      "cell_type": "markdown",
      "metadata": {
        "colab_type": "text",
        "id": "view-in-github"
      },
      "source": [
        "<a href=\"https://colab.research.google.com/github/sidharth-nm/CTD-1D-SC02-G01/blob/main/CTD_1D_SC02_Team_1.ipynb\" target=\"_parent\"><img src=\"https://colab.research.google.com/assets/colab-badge.svg\" alt=\"Open In Colab\"/></a>"
      ]
    },
    {
      "cell_type": "markdown",
      "metadata": {
        "id": "9TGhTFngtZDp"
      },
      "source": [
        "**Introduction**\n",
        "\n",
        "We are providing this google colab template for two reasons.\n",
        "\n",
        "1. **This Google Colab notebook is an online computing environment for you to work with various python libraries.** This prevents you from having to handle technical issues that you may encounter if you were working with these libraries on your local computer.\n",
        "\n",
        "2. This notebook also guides you on the commands and steps necessary to work with these libraries."
      ]
    },
    {
      "cell_type": "markdown",
      "metadata": {
        "id": "4Jl8IMTt9vR-"
      },
      "source": [
        "### Step 0. Before you begin.\n",
        "\n",
        "* We will use **ngrok**, a service that enables you to test your webapp on the internet. We will need to install the ```pyngrok``` library for this.\n",
        "\n",
        "* We will use ```streamlit``` library that enables you to write python code to make the user interface for a webapp.\n",
        "\n",
        "\n",
        "a. Sign up for an ngrok free account. https://dashboard.ngrok.com/\n",
        "\n",
        "\n",
        "b. With your free **ngrok** account, login to the dashboard. Look for the section that says \"Your Authtoken\" from ngrok. Copy that string. https://dashboard.ngrok.com/get-started/your-authtoken\n"
      ]
    },
    {
      "cell_type": "markdown",
      "metadata": {
        "id": "7GtiCbo_Wn08"
      },
      "source": [
        "### Commands in this notebook.\n",
        "\n",
        "You will notice that there are three kinds of commands in this notebook.\n",
        "\n",
        "1. **Python statement** You will recognize them instantly e.g. ```from ngrok import ngrok```\n",
        "\n",
        "2. **Terminal Commands** Such commands are prefixed with ```!``` e.g ```!ls -ltrc```. Behind each google colab notebook is a Linux-based operating system. If you have a MacBook, you are using such an operating system. You use these terminal commands to give instructions to the operating system to do something for you. We have given you all the necessary commands.\n",
        "\n",
        "3. **Cell Magic Commands** Such commands are prefixed with ```%%``` e.g. ```%% writefile a.py```. Cell magic commands are a feature of Jupyter notebooks and helps you to manage the tasks in each code cell. We have given you all the necessary commands."
      ]
    },
    {
      "cell_type": "markdown",
      "metadata": {
        "id": "CVvdyLysXqXs"
      },
      "source": [
        "### Let's Begin"
      ]
    },
    {
      "cell_type": "markdown",
      "metadata": {
        "id": "CEIAINlN_oRs"
      },
      "source": [
        "1. Install the ```pyngrok``` library. Run the cell below.\n",
        "\n",
        "Note: in Jupyter, `!` means run this command in the shell (i.e. Terminal in Mac/Linux, Anaconda Prompt in Windows)."
      ]
    },
    {
      "cell_type": "code",
      "execution_count": null,
      "metadata": {
        "colab": {
          "base_uri": "https://localhost:8080/"
        },
        "id": "EVHqtC15_wad",
        "outputId": "071aa9d7-ed6c-4e03-863a-5d89f3564920"
      },
      "outputs": [
        {
          "name": "stdout",
          "output_type": "stream",
          "text": [
            "Collecting pyngrok\n",
            "  Downloading pyngrok-7.4.0-py3-none-any.whl.metadata (8.1 kB)\n",
            "Requirement already satisfied: PyYAML>=5.1 in /usr/local/lib/python3.12/dist-packages (from pyngrok) (6.0.3)\n",
            "Downloading pyngrok-7.4.0-py3-none-any.whl (25 kB)\n",
            "Installing collected packages: pyngrok\n",
            "Successfully installed pyngrok-7.4.0\n"
          ]
        }
      ],
      "source": [
        "!pip install pyngrok"
      ]
    },
    {
      "cell_type": "markdown",
      "metadata": {
        "id": "BTqDRx8gN3XB"
      },
      "source": [
        "2. Paste Your Authtoken over ```<your authoken here>``` and remove only the ```#```\n",
        "\n",
        "**Example**. ```!ngrok authtoken 40AbCdEEfffgggghhkkkpppqqrrranyattttt```"
      ]
    },
    {
      "cell_type": "code",
      "execution_count": null,
      "metadata": {
        "colab": {
          "base_uri": "https://localhost:8080/"
        },
        "id": "JPe8ya14_czU",
        "outputId": "f2fc29dc-6b70-4433-8580-8dbf9e8f18f6"
      },
      "outputs": [
        {
          "name": "stdout",
          "output_type": "stream",
          "text": [
            "Authtoken saved to configuration file: /root/.config/ngrok/ngrok.yml\n"
          ]
        }
      ],
      "source": [
        "!ngrok authtoken 33vlWN9ITI5iIFR8PpU9odlgFyh_57y33rbV5veFxAjDR33Lk"
      ]
    },
    {
      "cell_type": "markdown",
      "metadata": {
        "id": "SYikhb1uADU2"
      },
      "source": [
        "3. Run the cell below to ensure that your ngrok library is the most updated.\n",
        "\n",
        "- You only need to run this cell once at the start of each session. After that, comment out the python commands in this cell."
      ]
    },
    {
      "cell_type": "code",
      "execution_count": null,
      "metadata": {
        "colab": {
          "base_uri": "https://localhost:8080/",
          "height": 316
        },
        "id": "Nn1Ivp1OAHfS",
        "outputId": "bfa9dcad-c040-4981-b3ff-9d795bd6c3a2"
      },
      "outputs": [
        {
          "ename": "PyngrokNgrokError",
          "evalue": "ngrok is already running for the \"ngrok_path\": /root/.config/ngrok/ngrok",
          "output_type": "error",
          "traceback": [
            "\u001b[0;31m---------------------------------------------------------------------------\u001b[0m",
            "\u001b[0;31mPyngrokNgrokError\u001b[0m                         Traceback (most recent call last)",
            "\u001b[0;32m/tmp/ipython-input-3274564150.py\u001b[0m in \u001b[0;36m<cell line: 0>\u001b[0;34m()\u001b[0m\n\u001b[1;32m      1\u001b[0m \u001b[0;32mfrom\u001b[0m \u001b[0mpyngrok\u001b[0m \u001b[0;32mimport\u001b[0m \u001b[0mngrok\u001b[0m\u001b[0;34m\u001b[0m\u001b[0;34m\u001b[0m\u001b[0m\n\u001b[0;32m----> 2\u001b[0;31m \u001b[0mngrok\u001b[0m\u001b[0;34m.\u001b[0m\u001b[0mupdate\u001b[0m\u001b[0;34m(\u001b[0m\u001b[0;34m)\u001b[0m\u001b[0;34m\u001b[0m\u001b[0;34m\u001b[0m\u001b[0m\n\u001b[0m",
            "\u001b[0;32m/usr/local/lib/python3.12/dist-packages/pyngrok/ngrok.py\u001b[0m in \u001b[0;36mupdate\u001b[0;34m(pyngrok_config)\u001b[0m\n\u001b[1;32m    564\u001b[0m     \u001b[0minstall_ngrok\u001b[0m\u001b[0;34m(\u001b[0m\u001b[0mpyngrok_config\u001b[0m\u001b[0;34m)\u001b[0m\u001b[0;34m\u001b[0m\u001b[0;34m\u001b[0m\u001b[0m\n\u001b[1;32m    565\u001b[0m \u001b[0;34m\u001b[0m\u001b[0m\n\u001b[0;32m--> 566\u001b[0;31m     \u001b[0;32mreturn\u001b[0m \u001b[0mprocess\u001b[0m\u001b[0;34m.\u001b[0m\u001b[0mcapture_run_process\u001b[0m\u001b[0;34m(\u001b[0m\u001b[0mpyngrok_config\u001b[0m\u001b[0;34m.\u001b[0m\u001b[0mngrok_path\u001b[0m\u001b[0;34m,\u001b[0m \u001b[0;34m[\u001b[0m\u001b[0;34m\"update\"\u001b[0m\u001b[0;34m]\u001b[0m\u001b[0;34m)\u001b[0m\u001b[0;34m\u001b[0m\u001b[0;34m\u001b[0m\u001b[0m\n\u001b[0m\u001b[1;32m    567\u001b[0m \u001b[0;34m\u001b[0m\u001b[0m\n\u001b[1;32m    568\u001b[0m \u001b[0;34m\u001b[0m\u001b[0m\n",
            "\u001b[0;32m/usr/local/lib/python3.12/dist-packages/pyngrok/process.py\u001b[0m in \u001b[0;36mcapture_run_process\u001b[0;34m(ngrok_path, args)\u001b[0m\n\u001b[1;32m    328\u001b[0m     \u001b[0;34m:\u001b[0m\u001b[0mraises\u001b[0m\u001b[0;34m:\u001b[0m \u001b[0mCalledProcessError\u001b[0m \u001b[0mAn\u001b[0m \u001b[0merror\u001b[0m \u001b[0moccurred\u001b[0m \u001b[0;32mwhile\u001b[0m \u001b[0mexecuting\u001b[0m \u001b[0mthe\u001b[0m \u001b[0mprocess\u001b[0m\u001b[0;34m.\u001b[0m\u001b[0;34m\u001b[0m\u001b[0;34m\u001b[0m\u001b[0m\n\u001b[1;32m    329\u001b[0m     \"\"\"\n\u001b[0;32m--> 330\u001b[0;31m     \u001b[0m_validate_path\u001b[0m\u001b[0;34m(\u001b[0m\u001b[0mngrok_path\u001b[0m\u001b[0;34m)\u001b[0m\u001b[0;34m\u001b[0m\u001b[0;34m\u001b[0m\u001b[0m\n\u001b[0m\u001b[1;32m    331\u001b[0m \u001b[0;34m\u001b[0m\u001b[0m\n\u001b[1;32m    332\u001b[0m     \u001b[0mstart\u001b[0m \u001b[0;34m=\u001b[0m \u001b[0;34m[\u001b[0m\u001b[0mngrok_path\u001b[0m\u001b[0;34m]\u001b[0m \u001b[0;34m+\u001b[0m \u001b[0margs\u001b[0m\u001b[0;34m\u001b[0m\u001b[0;34m\u001b[0m\u001b[0m\n",
            "\u001b[0;32m/usr/local/lib/python3.12/dist-packages/pyngrok/process.py\u001b[0m in \u001b[0;36m_validate_path\u001b[0;34m(ngrok_path)\u001b[0m\n\u001b[1;32m    357\u001b[0m \u001b[0;34m\u001b[0m\u001b[0m\n\u001b[1;32m    358\u001b[0m     \u001b[0;32mif\u001b[0m \u001b[0mngrok_path\u001b[0m \u001b[0;32min\u001b[0m \u001b[0m_current_processes\u001b[0m\u001b[0;34m:\u001b[0m\u001b[0;34m\u001b[0m\u001b[0;34m\u001b[0m\u001b[0m\n\u001b[0;32m--> 359\u001b[0;31m         \u001b[0;32mraise\u001b[0m \u001b[0mPyngrokNgrokError\u001b[0m\u001b[0;34m(\u001b[0m\u001b[0;34mf\"ngrok is already running for the \\\"ngrok_path\\\": {ngrok_path}\"\u001b[0m\u001b[0;34m)\u001b[0m\u001b[0;34m\u001b[0m\u001b[0;34m\u001b[0m\u001b[0m\n\u001b[0m\u001b[1;32m    360\u001b[0m \u001b[0;34m\u001b[0m\u001b[0m\n\u001b[1;32m    361\u001b[0m \u001b[0;34m\u001b[0m\u001b[0m\n",
            "\u001b[0;31mPyngrokNgrokError\u001b[0m: ngrok is already running for the \"ngrok_path\": /root/.config/ngrok/ngrok"
          ]
        }
      ],
      "source": [
        "from pyngrok import ngrok\n",
        "ngrok.update()"
      ]
    },
    {
      "cell_type": "markdown",
      "metadata": {
        "id": "xMLUqRKU_6M-"
      },
      "source": [
        "4. Run the following cell to install the  ```streamlit``` library."
      ]
    },
    {
      "cell_type": "code",
      "execution_count": null,
      "metadata": {
        "colab": {
          "base_uri": "https://localhost:8080/"
        },
        "id": "EjF78-kO_5xa",
        "outputId": "3dd6b0c0-6877-44dc-ebf5-f2b13526a414"
      },
      "outputs": [
        {
          "name": "stdout",
          "output_type": "stream",
          "text": [
            "\u001b[2K   \u001b[90m━━━━━━━━━━━━━━━━━━━━━━━━━━━━━━━━━━━━━━━━\u001b[0m \u001b[32m10.1/10.1 MB\u001b[0m \u001b[31m60.3 MB/s\u001b[0m eta \u001b[36m0:00:00\u001b[0m\n",
            "\u001b[2K   \u001b[90m━━━━━━━━━━━━━━━━━━━━━━━━━━━━━━━━━━━━━━━━\u001b[0m \u001b[32m6.9/6.9 MB\u001b[0m \u001b[31m90.5 MB/s\u001b[0m eta \u001b[36m0:00:00\u001b[0m\n",
            "\u001b[?25h"
          ]
        }
      ],
      "source": [
        "!pip install streamlit -q"
      ]
    },
    {
      "cell_type": "markdown",
      "metadata": {
        "id": "FpZTRtznA5Yu"
      },
      "source": [
        "2. Your ```streamlit``` webapp is usually stored in a python file called **app.py**. The first line in this cell ```%%writefile app.py``` creates this python file which contains all the code in this file.\n",
        "\n",
        "- Study the statements below and see how each python statement creates a different widget. Also, observe the role of ```st.session_state``` and how it is linked to the ```key``` attribute of each widget."
      ]
    },
    {
      "cell_type": "code",
      "execution_count": null,
      "metadata": {
        "colab": {
          "base_uri": "https://localhost:8080/"
        },
        "id": "7nReqBXB_1Gr",
        "outputId": "47c48540-f145-4379-dc97-23e075f2709a"
      },
      "outputs": [
        {
          "name": "stdout",
          "output_type": "stream",
          "text": [
            "Overwriting app.py\n"
          ]
        }
      ],
      "source": [
        "%%writefile app.py\n",
        "\n",
        "import streamlit as st\n",
        "import mylibrary\n",
        "\n",
        "st.write(\"Hello!\")\n",
        "st.text_input(\"Enter the quantity of African Oranges $2 each\", key=\"oranges\")\n",
        "st.number_input(\"Enter the quantity of Fuji Apples $3 each\", min_value=0, max_value=10, step=1, key=\"apples\")\n",
        "st.slider(\"How many plastic bags do you want\", min_value=0, max_value=3, step=1, key=\"bags\")\n",
        "bags_cost = mylibrary.plastic_bags_price(st.session_state.bags)\n",
        "st.write(\"Your plastic bags will cost $\" + str(bags_cost))\n",
        "\n",
        "if st.button('Get Total'):\n",
        "    st.write('Calculating Your Total ...')\n",
        "    oranges = int(st.session_state.oranges)\n",
        "    apples = int(st.session_state.apples)\n",
        "    result = mylibrary.calculate_total(oranges, apples)\n",
        "    total = bags_cost + result\n",
        "    st.write('Please pay {:.2f}'.format(total))\n",
        "else:\n",
        "    st.write('Please Key In The Quantity')"
      ]
    },
    {
      "cell_type": "markdown",
      "metadata": {
        "id": "S2YA7-GLR_vS"
      },
      "source": [
        "3. The files are stored somewhere on your google account's filesystem. To see the files, run the following terminal commands."
      ]
    },
    {
      "cell_type": "markdown",
      "metadata": {
        "id": "-3PJ5rtbSIuJ"
      },
      "source": [
        "```pwd``` - **p**rint **w**orking **d**irectory"
      ]
    },
    {
      "cell_type": "code",
      "execution_count": null,
      "metadata": {
        "colab": {
          "base_uri": "https://localhost:8080/"
        },
        "id": "IV3AO4HzSIXP",
        "outputId": "3aad2c85-05c2-40e0-e999-6e287ddcf51f"
      },
      "outputs": [
        {
          "name": "stdout",
          "output_type": "stream",
          "text": [
            "/content/drive/MyDrive/CTD_1D\n"
          ]
        }
      ],
      "source": [
        "!pwd"
      ]
    },
    {
      "cell_type": "markdown",
      "metadata": {
        "id": "5-nkvQRRSezC"
      },
      "source": [
        "```ls``` - **l**ist content**s** . The ```-ltrc``` flag specifies how the contents of the folder are displayed."
      ]
    },
    {
      "cell_type": "code",
      "execution_count": null,
      "metadata": {
        "colab": {
          "base_uri": "https://localhost:8080/"
        },
        "id": "kIocOZ7MSDov",
        "outputId": "50845b0d-0919-4524-f753-505d7cc5215f"
      },
      "outputs": [
        {
          "name": "stdout",
          "output_type": "stream",
          "text": [
            "total 5\n",
            "-rw------- 1 root root 3188 Oct 12 06:23 Database.json\n",
            "-rw------- 1 root root  806 Oct 12 06:44 app.py\n"
          ]
        }
      ],
      "source": [
        "!ls -ltrc"
      ]
    },
    {
      "cell_type": "markdown",
      "metadata": {
        "id": "ine9w28zPgo4"
      },
      "source": [
        "3. Now we have start a streamlit server to *serve* our webpage to users.\n",
        "\n",
        "- In the below command:\n",
        "  - `streamlit run app.py` tells streamlit to start a server.\n",
        "  - `--server.port 5011` starts it on port 5011 (the `--` is for options).\n",
        "  - `nohup` (no hang up) makes sure that the server doesn't die when we close the Colab connection\n",
        "  - `&` sends the command to the background so the notebook doesn't wait for the server to finish (since the server is supposed to keep running)"
      ]
    },
    {
      "cell_type": "code",
      "execution_count": null,
      "metadata": {
        "colab": {
          "base_uri": "https://localhost:8080/"
        },
        "id": "WNvmY0hBPoEI",
        "outputId": "85a0bb8f-18bd-4850-ede9-016e652b7819"
      },
      "outputs": [
        {
          "name": "stdout",
          "output_type": "stream",
          "text": [
            "nohup: appending output to 'nohup.out'\n"
          ]
        }
      ],
      "source": [
        "!nohup streamlit run app.py --server.port 5011 &"
      ]
    },
    {
      "cell_type": "markdown",
      "metadata": {
        "id": "6rsAV1N4BR_I"
      },
      "source": [
        "4. Next, we run some ngrok functions so that this server can be accessed on the internet. You should see a URL that you can click on. Click it - that's your webapp and interact with it to see that it works as it should."
      ]
    },
    {
      "cell_type": "code",
      "execution_count": null,
      "metadata": {
        "colab": {
          "base_uri": "https://localhost:8080/"
        },
        "id": "mmhE69ucBhES",
        "outputId": "b10f21d1-13c6-4239-ce12-a77f271c3459"
      },
      "outputs": [
        {
          "name": "stdout",
          "output_type": "stream",
          "text": [
            " * Tunnel URL: https://libratory-confined-edmundo.ngrok-free.dev\n"
          ]
        }
      ],
      "source": [
        "from pyngrok import ngrok\n",
        "\n",
        "# Start ngrok tunnel to expose the Streamlit server\n",
        "# Use the 'addr' argument to specify the address and port.\n",
        "ngrok_tunnel = ngrok.connect(addr='5011', proto='http', bind_tls=True)\n",
        "\n",
        "# Print the URL of the ngrok tunnel\n",
        "print(' * Tunnel URL:', ngrok_tunnel.public_url)"
      ]
    },
    {
      "cell_type": "markdown",
      "metadata": {
        "id": "zroa5lUqY66b"
      },
      "source": [
        "5. Make a change to any string in ```app.py``` and run the cell e.g. change ```African``` to any other word. On your webapp, you should see a prompt for you to reload. Follow it and see that the change is made.\n",
        "\n",
        "6. Note that the free service for ```ngrok``` means that your URL in step 4 is not permanent. Once it is no longer accessible, go to the top of your notebook and select **Restart Session and Run All**.\n",
        "\n",
        "7. You may also encounter errors displaying the URL in Step 4. If this happens, go to https://dashboard.ngrok.com/agents, click on the agent shown (look for the three dots) and select delete."
      ]
    },
    {
      "cell_type": "markdown",
      "metadata": {
        "id": "dX8cVmGNO6lN"
      },
      "source": [
        "### Step 2. Learn on your own."
      ]
    },
    {
      "cell_type": "markdown",
      "metadata": {
        "id": "A1IRm5ApO-kv"
      },
      "source": [
        "Now that you can build your own webapp, learn about the various widgets available in Streamlit and experiment with them.\n",
        "https://docs.streamlit.io/develop/api-reference/widgets\n"
      ]
    },
    {
      "cell_type": "markdown",
      "metadata": {
        "id": "C6mbpJmzX2Ii"
      },
      "source": [
        "### Alternative: You could choose to run this project locally on your laptop.\n",
        "\n",
        "If you just want to run this on your local machine, it's easier and you don't need `ngrok`.\n",
        "\n",
        "1. From your shell (Terminal / Anaconda Prompt), install streamlit using `pip install streamlit`\n",
        "2. Create a project folder for the `.py` files in this project\n",
        "3. Put the template code from Step 1.1 in `mylibrary.py`\n",
        "4. Put the template code from Step 1.2 in `app.py`\n",
        "5. Edit the files as you wish\n",
        "6. To start streamlit, open your shell (Terminal / Anaconda Prompt) and go to your project folder. You can use `cd xxxx` to **c**hange **d**irectory to folder `xxxx`. To go up one directory level, use `cd ..`\n",
        "7. When you are in the project folder, run `streamlit run app.py`\n",
        "8. The server should start (on your computer) and take you to the webpage in your browser."
      ]
    },
    {
      "cell_type": "markdown",
      "metadata": {
        "id": "p4cQLJkHR3kM"
      },
      "source": [
        "### Resources used\n",
        "\n",
        "The writer of this assignment spoke to Prof Kenny Lu who pointed him to the **ngrok** service and shared some resources used in another SUTD course. The writer then read this [article from medium.com](https://medium.com/@mrcoffeeai/running-streamlit-on-google-colab-with-pyngrok-24895581df43) and used the code given. The writer also looked at the Streamlit documentation, in the [section for beginners](https://docs.streamlit.io/get-started/fundamentals/main-concepts). Faculty and UTAs teaching CTD helped to give feedback."
      ]
    },
    {
      "cell_type": "markdown",
      "metadata": {
        "id": "aEwqNJwjIrNt"
      },
      "source": [
        "\n",
        "\n",
        "---------\n",
        ">\n",
        "> Use this notebook as a template for your project. You may add cells if you have more code to write. Do not delete any cells, every aspect is important.\n",
        ">\n",
        "---------\n",
        "\n",
        "\n"
      ]
    },
    {
      "cell_type": "markdown",
      "metadata": {
        "id": "j6y9Wo9uM2ew"
      },
      "source": [
        "#Set up"
      ]
    },
    {
      "cell_type": "code",
      "execution_count": null,
      "metadata": {
        "colab": {
          "base_uri": "https://localhost:8080/"
        },
        "id": "iUl2DHT1NAht",
        "outputId": "a3b5954d-265c-4cfb-a8ae-c582ddb7f996"
      },
      "outputs": [
        {
          "name": "stdout",
          "output_type": "stream",
          "text": [
            "Folder not found: sample_data\n",
            "Drive already mounted at /content/drive/; to attempt to forcibly remount, call drive.mount(\"/content/drive/\", force_remount=True).\n"
          ]
        }
      ],
      "source": [
        "#To run to get files and cd\n",
        "import shutil,os\n",
        "\n",
        "# Delete the entire sample_data folder\n",
        "folder_to_delete = \"sample_data\"\n",
        "if os.path.exists(folder_to_delete):\n",
        "    shutil.rmtree(folder_to_delete)\n",
        "    print(f\"Deleted folder: {folder_to_delete}\")\n",
        "else:\n",
        "    print(f\"Folder not found: {folder_to_delete}\")\n",
        "\n",
        "from google.colab import drive\n",
        "drive.mount('/content/drive/')\n",
        "os.chdir('/content/drive/MyDrive/CTD_1D')\n"
      ]
    },
    {
      "cell_type": "code",
      "execution_count": null,
      "metadata": {
        "id": "A3lxREQteJZk"
      },
      "outputs": [],
      "source": [
        "!ngrok authtoken 33vlWN9ITI5iIFR8PpU9odlgFyh_57y33rbV5veFxAjDR33Lk"
      ]
    },
    {
      "cell_type": "markdown",
      "metadata": {
        "id": "Zb09_NrOegW2"
      },
      "source": [
        "#Code\n",
        "As we will be using multiple cells of code to append/overwrite the files, each file has its own section for us to append/overwrite the file neatly."
      ]
    },
    {
      "cell_type": "markdown",
      "metadata": {
        "id": "ZdJNFjyohhb6"
      },
      "source": [
        "##App.py"
      ]
    },
    {
      "cell_type": "code",
      "execution_count": null,
      "metadata": {
        "colab": {
          "base_uri": "https://localhost:8080/"
        },
        "id": "-MUaiZGde2hd",
        "outputId": "5d563cd8-457e-47c9-f578-7ad328c47c29"
      },
      "outputs": [
        {
          "name": "stdout",
          "output_type": "stream",
          "text": [
            "Overwriting app.py\n"
          ]
        }
      ],
      "source": [
        "%%writefile app.py\n",
        "'''Main application file. Run \"streamlit run app.py\" in root folder to execute the web application.'''\n",
        "\n",
        "# Imports\n",
        "import streamlit as st\n",
        "import login_frontend as login\n",
        "\n",
        "# Initializes current page\n",
        "# If user has never opened application or signed out, they are directed to login page\n",
        "if (not \"curr_page\" in st.session_state) or (not \"logged_in\" in st.session_state) or (not st.session_state.logged_in):\n",
        "  st.session_state.curr_page = login.Page\n",
        "\n",
        "# Configure browser tab\n",
        "st.set_page_config(page_title=\"The Reading Nook\", page_icon=\"📖\")\n",
        "\n",
        "# Loads current page\n",
        "@st.fragment\n",
        "def render_current_page():\n",
        "    current_page = st.session_state.curr_page()\n",
        "    current_page.render()\n",
        "\n",
        "render_current_page()\n",
        "\n"
      ]
    },
    {
      "cell_type": "markdown",
      "metadata": {
        "id": "rFf39Sk6o7rC"
      },
      "source": [
        "##login_frontend.py"
      ]
    },
    {
      "cell_type": "code",
      "execution_count": null,
      "metadata": {
        "colab": {
          "base_uri": "https://localhost:8080/"
        },
        "id": "Jq1RGJv9j4me",
        "outputId": "091ada0b-dd77-4d2c-c08b-f170a4b3643b"
      },
      "outputs": [
        {
          "name": "stdout",
          "output_type": "stream",
          "text": [
            "Overwriting login_frontend.py\n"
          ]
        }
      ],
      "source": [
        "%%writefile login_frontend.py\n",
        "# Imports\n",
        "import streamlit as st\n",
        "import pagination as pg\n",
        "import login_backend as logback\n",
        "import create_account_frontend as create_acc\n",
        "import shopping_frontend as shopping\n",
        "\n",
        "class Page:\n",
        "    # Initialize page's state\n",
        "    def __init__(self):\n",
        "        if 'logged_in' not in st.session_state:\n",
        "          st.session_state.logged_in = False\n",
        "\n",
        "    def render(self):\n",
        "        page_container = st.container()\n",
        "        with page_container:\n",
        "          # Display the starting elements and add necessary listeners\n",
        "          col1, middleCol, col2 = st.columns(3)\n",
        "          with middleCol:\n",
        "            # Book store logo\n",
        "            st.image(\"ctd_1d_logo.jpg\", width=350)\n",
        "\n",
        "          # Title\n",
        "          st.markdown(\"<h1 style='text-align: center;'>Login To Your Account</h1>\", unsafe_allow_html=True)\n",
        "          username = st.text_input(\"Username\")\n",
        "          password = st.text_input(\"Password\", type=\"password\")\n",
        "\n",
        "          leftButtonCol, rightButtonCol = st.columns(2)\n",
        "          # Create Account button\n",
        "          with leftButtonCol:\n",
        "            create_acc_button = st.button(\"Create Account\")\n",
        "\n",
        "            # Event listener for Create Account button\n",
        "            if create_acc_button:\n",
        "              pg.change_page(create_acc.Page)\n",
        "          \n",
        "          # Login button\n",
        "          with rightButtonCol:\n",
        "            login_button = st.button(\"Login\")\n",
        "\n",
        "            # Event listener for Login button\n",
        "            if login_button:\n",
        "              print(\"Login clicked\")\n",
        "              print(f\"Credentials: {username}, {password}\")\n",
        "\n",
        "              # Verifies if credentials are valid\n",
        "              if logback.verify_credentials(username, password):\n",
        "                st.success(\"Successfully logged in! Redirecting...\")\n",
        "                st.session_state.logged_in = True\n",
        "                pg.change_page(shopping.Page)\n",
        "              \n",
        "              # If invalid, user must try again with new, correct credentials\n",
        "              else:\n",
        "                st.error(\"Incorrect username or password, please try again.\")\n",
        "          \n",
        "        return page_container\n",
        "\n",
        "        \n",
        "\n",
        "\n"
      ]
    },
    {
      "cell_type": "markdown",
      "metadata": {
        "id": "vOYRbMRGp7rA"
      },
      "source": [
        "##login_backend.py"
      ]
    },
    {
      "cell_type": "code",
      "execution_count": null,
      "metadata": {
        "colab": {
          "base_uri": "https://localhost:8080/"
        },
        "id": "GwoiqEhwl2Th",
        "outputId": "7f2797db-7b23-404e-e8bb-231b4334cf92"
      },
      "outputs": [
        {
          "name": "stdout",
          "output_type": "stream",
          "text": [
            "Writing login_backend.py\n"
          ]
        }
      ],
      "source": [
        "%%writefile login_backend.py\n",
        "# imports\n",
        "import data_handler as dh\n",
        "\n",
        "# Validates & verifies credentials; auxilliary function for login_frontend.py\n",
        "def verify_credentials(username, password):\n",
        "  # Basic validation check\n",
        "  if len(username.strip()) <= 0 or len(password.strip()) <= 0:\n",
        "    return False\n",
        "\n",
        "  else:\n",
        "    user_record = dh.get_user_details(username)\n",
        "\n",
        "    # Verifies whether credentials are correct or not\n",
        "    # If exist + username & password matched, yields True\n",
        "    return ( len(user_record) > 0 and user_record['password'] == password)"
      ]
    },
    {
      "cell_type": "markdown",
      "metadata": {
        "id": "UVvNpUVap_FO"
      },
      "source": [
        "##create_account_frontend.py"
      ]
    },
    {
      "cell_type": "code",
      "execution_count": null,
      "metadata": {
        "colab": {
          "base_uri": "https://localhost:8080/"
        },
        "id": "R-E2zbgimphI",
        "outputId": "c00945b3-98de-4bb7-fd2f-23a62e8fa99d"
      },
      "outputs": [
        {
          "name": "stdout",
          "output_type": "stream",
          "text": [
            "Writing create_account_frontend.py\n"
          ]
        }
      ],
      "source": [
        "%%writefile create_account_frontend.py\n",
        "# Imports\n",
        "import streamlit as st\n",
        "import pagination as pg\n",
        "import data_handler as dh\n",
        "import login_frontend as login\n",
        "from time import sleep\n",
        "import create_account_backend as caccback\n",
        "\n",
        "class Page:\n",
        "    #create Page object\n",
        "    def __init__(self):\n",
        "        st.session_state.logged_in = False\n",
        "\n",
        "    def render(self):\n",
        "        page_container = st.container()\n",
        "        with page_container:\n",
        "          #display the starting elements and add necessary listeners\n",
        "          col1, middleCol, col2 = st.columns(3)\n",
        "          with middleCol:\n",
        "            st.image(\"ctd_1d_logo.jpg\", width=350)\n",
        "          \n",
        "          st.markdown(\"<h1 style='text-align: center;'>Make New Account</h1>\", unsafe_allow_html=True)\n",
        "          username = st.text_input(\"Username\")\n",
        "          password = st.text_input(\"Password\", type=\"password\")\n",
        "\n",
        "          leftButtonCol, rightButtonCol = st.columns(2)\n",
        "\n",
        "          with leftButtonCol:\n",
        "            create_acc_button_clicked = st.button(\"Create Account\")\n",
        "\n",
        "            # Event listener for Create Account button\n",
        "            if create_acc_button_clicked:\n",
        "\n",
        "                # Input validation\n",
        "                if len(username.strip()) <= 5 or username == \"\":\n",
        "                    st.error(\"Username field must be at least 6 characters long.\")\n",
        "                elif len(password.strip()) <= 7 or password == \"\" or password.isalnum():\n",
        "                    st.error(\"Password must be at least 8 characters long, and contain special characters.\")\n",
        "                else:\n",
        "                    # Input verification + account creation\n",
        "                    if caccback.verify_credentials(username):\n",
        "                        dh.add_user( {'username': username.strip(), 'password': password.strip()} )\n",
        "                        st.success(\"Account successfully made! Redirecting to login page...\")\n",
        "                        # Temporarily pauses so reader can see success message\n",
        "                        sleep(0.8)\n",
        "                        pg.change_page(login.Page)\n",
        "                    else:\n",
        "                        st.error(\"Account could not be made (username is already in use)\")\n",
        "          \n",
        "          # Displays Login to Existing Account button\n",
        "          with rightButtonCol:\n",
        "            login_button_clicked = st.button(\"Login to Existing Account\")\n",
        "\n",
        "            # Event listener for Login to Existing Account button\n",
        "            if login_button_clicked:\n",
        "              pg.change_page(login.Page)\n",
        "\n",
        "\n",
        "\n",
        "        return page_container"
      ]
    },
    {
      "cell_type": "markdown",
      "metadata": {
        "id": "9EE3DmgMqPES"
      },
      "source": [
        "##create_account_backend.py"
      ]
    },
    {
      "cell_type": "code",
      "execution_count": null,
      "metadata": {
        "colab": {
          "base_uri": "https://localhost:8080/"
        },
        "id": "qbpOuLkuk5RK",
        "outputId": "6957d3a3-512d-460b-c4c7-7ef43c919a25"
      },
      "outputs": [
        {
          "name": "stdout",
          "output_type": "stream",
          "text": [
            "Writing create_account_backend.py\n"
          ]
        }
      ],
      "source": [
        "%%writefile create_account_backend.py\n",
        "# Imports\n",
        "import data_handler as dh\n",
        "\n",
        "# Verifies credentials (input validation is handled in create_account_frontend). Auxilliary function\n",
        "# If acceptable, returns True; else, returns False\n",
        "def verify_credentials(username):\n",
        "  # Checks if username is already in use\n",
        "  if len(dh.get_user_details(username)) > 0:\n",
        "    return False \n",
        "  else:\n",
        "    return True"
      ]
    },
    {
      "cell_type": "markdown",
      "metadata": {
        "id": "fowt2QytqabE"
      },
      "source": [
        "##shopping_frontend.py"
      ]
    },
    {
      "cell_type": "code",
      "execution_count": null,
      "metadata": {
        "colab": {
          "base_uri": "https://localhost:8080/"
        },
        "id": "K4v7orzNklLi",
        "outputId": "79e176a3-10b6-4544-b7b6-ca9bd4a5277e"
      },
      "outputs": [
        {
          "name": "stdout",
          "output_type": "stream",
          "text": [
            "Writing shopping_frontend.py\n"
          ]
        }
      ],
      "source": [
        "%%writefile shopping_frontend.py\n",
        "# Imports\n",
        "import streamlit as st\n",
        "import pagination as pg\n",
        "import payment_frontend as payment\n",
        "import shopping_backend as shopback\n",
        "\n",
        "class Page:\n",
        "    #create Page object\n",
        "    def __init__(self):\n",
        "        pass\n",
        "\n",
        "    #TODO: update the total and shopping list database and total in this script\n",
        "    def update_payment(self):\n",
        "        #get total\n",
        "        total = 0\n",
        "        books_to_buy = []\n",
        "\n",
        "        for book_id in st.session_state.books_in_cart['book_ids']:\n",
        "            book = shopback.get_book_by_id(book_id)\n",
        "            total += book[\"price\"]\n",
        "            books_to_buy.append(book_id)\n",
        "\n",
        "        #store total\n",
        "        st.session_state.books_in_cart[\"total\"] = round(total,2)\n",
        "        #store book\n",
        "        st.session_state.books_in_cart['book_ids'] = books_to_buy[:]\n",
        "\n",
        "    #add only 1 book to cart (I got no time to make it so versatile)\n",
        "    def add_to_cart(self,book_id):\n",
        "        if  book_id not in st.session_state.books_in_cart['book_ids']:\n",
        "            st.session_state.books_in_cart['book_ids'].append(book_id)\n",
        "            self.update_payment()\n",
        "\n",
        "    #remove only 1 book to cart (I got no time to make it so versatile)\n",
        "    def remove_from_cart(self, book_id):\n",
        "        if book_id in st.session_state.books_in_cart['book_ids']:\n",
        "            st.session_state.books_in_cart['book_ids'].remove(book_id)\n",
        "            self.update_payment()\n",
        "\n",
        "    #show search results using the input keywoard by user\n",
        "    def update_results(self):\n",
        "        if not st.session_state.search_performed:\n",
        "            return\n",
        "        if st.session_state.curr_search_input:\n",
        "            results_list = shopback.get_search_results(st.session_state.curr_search_input)\n",
        "\n",
        "            #if nothing, give none\n",
        "            if not results_list:\n",
        "                st.session_state.book_cards_to_display = None\n",
        "            #else store results from search\n",
        "            else:\n",
        "                st.session_state.book_cards_to_display = results_list\n",
        "        else:\n",
        "            st.session_state.book_cards_to_display = None\n",
        "        st.session_state.search_performed = False\n",
        "\n",
        "    #search btn listener that starts update results function\n",
        "    def handle_search(self):\n",
        "        st.session_state.search_performed = True\n",
        "        self.update_results()\n",
        "\n",
        "    def render(self):\n",
        "        # Initialize session state for the book display elements if not already present\n",
        "        if \"book_cards_to_display\" not in st.session_state:\n",
        "            st.session_state.book_cards_to_display = []\n",
        "\n",
        "        # Initialize session state for the input if not already present\n",
        "        if \"curr_search_input\" not in st.session_state:\n",
        "            st.session_state.curr_search_input = \" \"\n",
        "\n",
        "        # Initialize session state for the search performed check if not already present\n",
        "        if \"search_performed\" not in st.session_state:\n",
        "            st.session_state.search_performed = False\n",
        "\n",
        "        # Initialize session state for the books in cart if not already present\n",
        "        if \"books_in_cart\" not in st.session_state:\n",
        "            #storing the books in ids because of the add book btn that is returning ONLY the book id,\n",
        "            #use the datahandler.py's get_book_by_id function to retrieve kill me\n",
        "            st.session_state.books_in_cart = {'total':0,'book_ids':[]}\n",
        "\n",
        "        #initialise book cards elements\n",
        "        self.handle_search()\n",
        "\n",
        "        #display the shopping container\n",
        "        shopping_container = st.container()\n",
        "        with shopping_container:\n",
        "            with st.container(width = \"stretch\"):\n",
        "                col1, col2 = st.columns([0.1, 0.9])\n",
        "                with col1:\n",
        "                    #the search icon\n",
        "                    st.markdown('<p style=\"font-size: 30px; padding-left: 20px;\">🔎</p>', unsafe_allow_html=True)\n",
        "                with col2:\n",
        "                    with st.form(\"search_form\", enter_to_submit=False,border=False):\n",
        "                        col1, col2 = st.columns([0.8, 0.2])\n",
        "                        #a search bar\n",
        "                        with col1:\n",
        "                            st.text_input(\n",
        "                                \"\",\n",
        "                                placeholder=\"Search by genre, author or title\",\n",
        "                                label_visibility=\"collapsed\",\n",
        "                                key=\"curr_search_input\"\n",
        "                                )\n",
        "                        # Search button\n",
        "                        with col2:\n",
        "                            st.form_submit_button(\"Search\", on_click=self.handle_search)\n",
        "\n",
        "\n",
        "            with st.container(width = \"stretch\"):\n",
        "                col1, col2 = st.columns([0.7, 0.3])\n",
        "                #the search results\n",
        "                with col1:\n",
        "                    if st.session_state.book_cards_to_display == None:\n",
        "                        st.write(\"Search for books to see results\")\n",
        "                    else:\n",
        "                        # Display the current book cards from session state\n",
        "                        with st.container(height=800,border = False):\n",
        "                          for book in st.session_state.book_cards_to_display:\n",
        "                              with st.container(border=True):\n",
        "                                  book_card_col1,book_card_col2 = st.columns([0.4,0.5])\n",
        "                                  with book_card_col1:\n",
        "                                    st.markdown(f'<b>{book[\"title\"]}</b>', unsafe_allow_html=True)\n",
        "                                    st.markdown(f'by {book[\"author\"]}', unsafe_allow_html=True)\n",
        "                                    st.markdown(f'<u>{book[\"genre\"]}</u>', unsafe_allow_html=True)\n",
        "                                    st.markdown(f'<span style=\"color: green;\">{book[\"price\"]}', unsafe_allow_html=True)\n",
        "                                  with book_card_col2:\n",
        "                                    if book['image'] != \"\":\n",
        "                                      st.image(book[\"image\"], width=200)\n",
        "                                  st.button(\"Add to Cart\", key=f\"add_{book['id']}\", on_click=self.add_to_cart, args=(book[\"id\"],))\n",
        "                #sidebar containing cart list\n",
        "                with col2:\n",
        "                    with st.container(height = 800, border = True):\n",
        "                        st.header(\"Cart\",anchor =False)\n",
        "                        #Display all books addded to cart\n",
        "                        books_displayed_in_cart = st.container(height = 450, border = False)\n",
        "                        with books_displayed_in_cart:\n",
        "                            if len(st.session_state.books_in_cart['book_ids']) == 0:\n",
        "                                st.write(\"No books in cart\")\n",
        "                            else:\n",
        "                                for book_id in st.session_state.books_in_cart['book_ids']:\n",
        "                                    book = shopback.get_book_by_id(book_id)\n",
        "                                    with st.container(border=True):\n",
        "                                        st.markdown(f'<b>{book[\"title\"]}</b>', unsafe_allow_html=True)\n",
        "                                        st.markdown(f'by {book[\"author\"]}', unsafe_allow_html=True)\n",
        "                                        st.markdown(f'<span style=\"color: green;\">{book[\"price\"]}', unsafe_allow_html=True)\n",
        "                                        st.button(\"Remove\", key=f\"remove_{book['id']}\", on_click=self.remove_from_cart, args=(book[\"id\"],))\n",
        "\n",
        "                        st.divider()\n",
        "\n",
        "                        #the total cost information and checkout btn at the bottom of the cart\n",
        "                        with st.container():\n",
        "                            st.markdown(f'Total: {st.session_state.books_in_cart[\"total\"]}')\n",
        "                            checkout_btn_clicked = st.button(\"Checkout\")\n",
        "                            if checkout_btn_clicked:\n",
        "                                if len(st.session_state.books_in_cart['book_ids']) > 0:\n",
        "                                    pg.change_page(payment.Page)\n",
        "                                else:\n",
        "                                    st.error(\"Please add books to cart\")\n",
        "\n",
        "        return shopping_container"
      ]
    },
    {
      "cell_type": "markdown",
      "metadata": {
        "id": "U7CAgH6mqyQy"
      },
      "source": [
        "##shopping_backend.py"
      ]
    },
    {
      "cell_type": "code",
      "execution_count": null,
      "metadata": {
        "colab": {
          "base_uri": "https://localhost:8080/"
        },
        "id": "4Ny9yf6In0ry",
        "outputId": "c2d04d4b-2cba-4d34-c86a-6bf92b826b12"
      },
      "outputs": [
        {
          "name": "stdout",
          "output_type": "stream",
          "text": [
            "Writing shopping_backend.py\n"
          ]
        }
      ],
      "source": [
        "%%writefile shopping_backend.py\n",
        "# Imports\n",
        "import data_handler as dh\n",
        "\n",
        "#get a book by id\n",
        "def get_book_by_id(id):\n",
        "  return dh.get_book_by_id(id)\n",
        "\n",
        "#Get results based on keyword\n",
        "def get_search_results(keyword):\n",
        "    filtered_results = []\n",
        "\n",
        "    #get books where title contains keyword\n",
        "    for book in dh.get_filtered_books_list(\"title\", keyword):\n",
        "        if book not in filtered_results:\n",
        "            filtered_results.append(book)\n",
        "\n",
        "    #get books where genre contains keyword\n",
        "    for book in dh.get_filtered_books_list(\"genre\", keyword):\n",
        "        if book not in filtered_results:\n",
        "            filtered_results.append(book)\n",
        "\n",
        "    #get books where author contains keyword\n",
        "    for book in dh.get_filtered_books_list(\"author\", keyword):\n",
        "        if book not in filtered_results:\n",
        "            filtered_results.append(book)\n",
        "\n",
        "    return filtered_results\n"
      ]
    },
    {
      "cell_type": "markdown",
      "metadata": {
        "id": "iYEJooKEq0xb"
      },
      "source": [
        "##payment_frontend.py"
      ]
    },
    {
      "cell_type": "code",
      "execution_count": null,
      "metadata": {
        "colab": {
          "base_uri": "https://localhost:8080/"
        },
        "id": "rWSQsA6AnVF8",
        "outputId": "f823360c-fdf1-4bbb-9c6b-d0a001a88f9c"
      },
      "outputs": [
        {
          "name": "stdout",
          "output_type": "stream",
          "text": [
            "Writing payment_frontend.py\n"
          ]
        }
      ],
      "source": [
        "%%writefile payment_frontend.py\n",
        "# Imports\n",
        "import streamlit as st\n",
        "import payment_backend as pay_back\n",
        "import pagination as pg\n",
        "import confirmation_frontend as conf_front #if user proceeds to pay\n",
        "import shopping_frontend as shop_front #if user decides to edit their shopping cart or add something\n",
        "\n",
        "class Page:\n",
        "  #create page object\n",
        "  def __init__(self):\n",
        "    pass\n",
        "\n",
        "  def render(self):\n",
        "    st.title(\"Order Summary\") #cannot show the execution of the payment methods as it is out of the scope of our code\n",
        "\n",
        "    # Cannot proceed to payment if cart is empty\n",
        "    if len(st.session_state.books_in_cart['book_ids']) == 0 or \"books_in_cart\" not in st.session_state:\n",
        "      st.error(\"Your cart is empty. Please add items.\")\n",
        "\n",
        "    # Displays final price to be paid\n",
        "    total_to_pay = pay_back.total_with_gst()\n",
        "    st.markdown(\"Grand total with 9%% GST: %f\" % round(total_to_pay[0], 2))\n",
        "    # Displays a message if bill qualifies for a discount\n",
        "    if total_to_pay[1]:\n",
        "      st.success(\"Your bill was over $35, so a 10% discount was applied!\")\n",
        "\n",
        "    col1, col2 = st.columns(2)\n",
        "\n",
        "    with col1:\n",
        "      continue_shopping_btn = st.button(\"Continue Shopping\")\n",
        "\n",
        "    with col2:\n",
        "      checkout_btn = st.button(\"Proceed to Checkout\")\n",
        "\n",
        "    # Event listener for Continue Shopping button\n",
        "    if continue_shopping_btn:\n",
        "      pg.change_page(shop_front.Page)\n",
        "\n",
        "    # Event listener for Checkout button\n",
        "    if checkout_btn:\n",
        "      pg.change_page(conf_front.Page)\n",
        "\n"
      ]
    },
    {
      "cell_type": "markdown",
      "metadata": {
        "id": "KTKNBxjWq4ML"
      },
      "source": [
        "##payment_backend.py"
      ]
    },
    {
      "cell_type": "code",
      "execution_count": null,
      "metadata": {
        "colab": {
          "base_uri": "https://localhost:8080/"
        },
        "id": "1RhycKPLoJ2Z",
        "outputId": "66093706-3efe-4626-ab29-d50dbfcf2c84"
      },
      "outputs": [
        {
          "name": "stdout",
          "output_type": "stream",
          "text": [
            "Writing payment_backend.py\n"
          ]
        }
      ],
      "source": [
        "%%writefile payment_backend.py\n",
        "# Imports\n",
        "import streamlit as st\n",
        "\n",
        "# calculate gst and add it to the total cost of the books to find the total the user needs to pay\n",
        "def total_with_gst():\n",
        "  #get total book price from shopping cart\n",
        "  total = st.session_state.books_in_cart.get(\"total\",0)\n",
        "  discount = 0\n",
        "  discount_applied = False\n",
        "  gst = total*0.09 # 9% gst\n",
        "  if total >= 35:\n",
        "    discount = 0.1*total #10% discount for users who spend over $35\n",
        "    discount_applied = True\n",
        "  grand_total = round(total + gst - discount, 2) # rounded to two d.p. for payment\n",
        "\n",
        "  return (grand_total, discount_applied)"
      ]
    },
    {
      "cell_type": "markdown",
      "metadata": {
        "id": "12Dji03rq7Hw"
      },
      "source": [
        "##confirmation_frontend.py"
      ]
    },
    {
      "cell_type": "code",
      "execution_count": null,
      "metadata": {
        "colab": {
          "base_uri": "https://localhost:8080/"
        },
        "id": "8tS9PqkLnb-r",
        "outputId": "7e8f770a-54fc-4ebf-98b5-d25ed8b5ebd4"
      },
      "outputs": [
        {
          "name": "stdout",
          "output_type": "stream",
          "text": [
            "Writing confirmation_frontend.py\n"
          ]
        }
      ],
      "source": [
        "%%writefile confirmation_frontend.py\n",
        "# Imports\n",
        "import streamlit as st\n",
        "import confirmation_backend as conf_back\n",
        "import pagination as pg\n",
        "import login_frontend as login\n",
        "import shopping_frontend as shop\n",
        "\n",
        "class Page:\n",
        "  #create Page object\n",
        "  def __init__(self):\n",
        "    pass\n",
        "\n",
        "  def render(self):\n",
        "    st.title(\"🎉 Congratulations 🎉\")\n",
        "    st.markdown(\"## Your order has been placed!\")\n",
        "    st.markdown(\"It will arrive within **three to five days.**\")\n",
        "\n",
        "    # Displays list of books purchased\n",
        "    st.subheader(\"Your items:\")\n",
        "    books = conf_back.get_books()\n",
        "\n",
        "    for book in books:\n",
        "      with st.container():\n",
        "        st.markdown(f\"**{book['title']}** by {book['author']}\")\n",
        "\n",
        "    # Displays Continue Shopping Button\n",
        "    restart_button = st.button(\"Return to Home\")\n",
        "    if restart_button:\n",
        "      if st.session_state.logged_in:\n",
        "        pg.change_page(shop.Page)\n",
        "      \n",
        "      # If user logs out, sends them to login page instead\n",
        "      else:\n",
        "        pg.change_page(login.Page)\n",
        "    \n",
        "    # Displays Logout button\n",
        "    logout_button = st.button(\"Log Out\")\n",
        "    # Event listener for Logout button\n",
        "    if logout_button:\n",
        "      st.session_state.logged_in = False\n",
        "      pg.change_page(login.Page)"
      ]
    },
    {
      "cell_type": "markdown",
      "metadata": {
        "id": "qkUSOeLxq92H"
      },
      "source": [
        "##confirmation_backend.py"
      ]
    },
    {
      "cell_type": "code",
      "execution_count": null,
      "metadata": {
        "colab": {
          "base_uri": "https://localhost:8080/"
        },
        "id": "PnKuI2dtogpg",
        "outputId": "4596b413-8c73-4a9f-f9d6-0e3495aa8814"
      },
      "outputs": [
        {
          "name": "stdout",
          "output_type": "stream",
          "text": [
            "Overwriting confirmation_backend.py\n"
          ]
        }
      ],
      "source": [
        "%%writefile confirmation_backend.py\n",
        "# Imports\n",
        "import streamlit as st\n",
        "import shopping_backend as shop_back\n",
        "\n",
        "# Retrieves list of books purchased \n",
        "def get_books():\n",
        "  book_list = []\n",
        "  if \"books_in_cart\" in st.session_state:\n",
        "    for book_id in st.session_state.books_in_cart['book_ids']:\n",
        "      book = shop_back.get_book_by_id(book_id)\n",
        "      if book:\n",
        "        book_list.append(book)\n",
        "  return book_list"
      ]
    },
    {
      "cell_type": "code",
      "execution_count": null,
      "metadata": {
        "id": "WmcwEzFYrlh2"
      },
      "outputs": [],
      "source": []
    },
    {
      "cell_type": "markdown",
      "metadata": {
        "id": "CxVcgwsZrEF4"
      },
      "source": [
        "##writefile data_handler.py"
      ]
    },
    {
      "cell_type": "code",
      "execution_count": null,
      "metadata": {
        "id": "ZgVF8__8BCnA"
      },
      "outputs": [],
      "source": [
        "# #Class objects\n",
        "# class User:\n",
        "#   #create empty user\n",
        "#   def _init_(self):\n",
        "#     _username = \"\"\n",
        "#     _password = \"\"\n",
        "\n",
        "#   #create user with assigned attributes\n",
        "#   def _init_(self, username, password):\n",
        "#     _username = username\n",
        "#     _password = password\n"
      ]
    },
    {
      "cell_type": "code",
      "execution_count": null,
      "metadata": {
        "colab": {
          "base_uri": "https://localhost:8080/"
        },
        "id": "2x2wwHA0hXDl",
        "outputId": "2612c033-a5b3-4e43-8df1-a13e6fc34fca"
      },
      "outputs": [
        {
          "name": "stdout",
          "output_type": "stream",
          "text": [
            "Overwriting data_handler.py\n"
          ]
        }
      ],
      "source": [
        "%%writefile data_handler.py\n",
        "# Imports\n",
        "import os\n",
        "import json # Loads data from database (json) file\n",
        "import copy\n",
        "\n",
        "DB_FILE = \"Database.json\"\n",
        "DB_FILE_PATH = os.path.join(os.getcwd(), DB_FILE)\n",
        "\n",
        "#GET database\n",
        "def get_data():\n",
        "  with open(DB_FILE_PATH, 'r') as f:\n",
        "    # Deserialising all Data before returning\n",
        "    data_dict = json.loads(f.read())\n",
        "  return data_dict\n",
        "\n",
        "#GET filtered list of book by a key and the input STRING value\n",
        "def get_filtered_books_list(key, value):\n",
        "  filtered_books = []\n",
        "\n",
        "  #return list of users who match the input\n",
        "  for book in books:\n",
        "    if value.lower() in book[key].lower() :\n",
        "      filtered_books.append(book)\n",
        "  return filtered_books\n",
        "\n",
        "#GET get the book by its id\n",
        "def get_book_by_id(id):\n",
        "  for book in books:\n",
        "    if id == book['id'] :\n",
        "      return book\n",
        "\n",
        "# TODO: Delete this, is deprecated\n",
        "# GET filtered list of users by a key\n",
        "def get_filtered_users_list(username, password):\n",
        "  filtered_users = []\n",
        "\n",
        "  #return list of users who match the input\n",
        "  for user in users:\n",
        "    if user[username] == password:\n",
        "      filtered_users.append(user)\n",
        "  return filtered_users\n",
        "\n",
        "#GET username, password pair by key (username); if doesn't exist, returns empty dict\n",
        "def get_user_details(username):\n",
        "  # Returns user with matching username-password pair\n",
        "  for user in users:\n",
        "    if user['username'] == username:\n",
        "      return user\n",
        "  \n",
        "  # Failsafe; if no such user exists, empty dict returned\n",
        "  return {}\n",
        "    \n",
        "\n",
        "#CREATE user data\n",
        "def user(username, password):\n",
        "  return {\n",
        "      \"username\": username,\n",
        "      \"password\": password\n",
        "  }\n",
        "\n",
        "#ADD user data to database\n",
        "def add_user(new_user):\n",
        "  new_users_list = copy.deepcopy(users)\n",
        "  print(new_users_list)\n",
        "  new_users_list.append(new_user)\n",
        "  update_database(database, new_users_list)\n",
        "\n",
        "  #refresh data to ensure credentials cache isn't stale\n",
        "  users.append(new_user)\n",
        "\n",
        "#UPDATE the databases\n",
        "def update_database(database, new_users = None):\n",
        "  #update the dictionary variables\n",
        "  if(new_users != None):\n",
        "    database[\"users\"] = new_users\n",
        "  books = database[\"books\"]\n",
        "  users = database[\"users\"]\n",
        "\n",
        "  #serialise the data\n",
        "  database_json_string = json.dumps(database, indent=4)\n",
        "  #update the db in the json file\n",
        "  with open(DB_FILE_PATH, \"w\") as f:\n",
        "    f.write(database_json_string)\n",
        "\n",
        "  \n",
        "\n",
        "\n",
        "#Initialise data\n",
        "database = get_data()\n",
        "books = database[\"books\"]\n",
        "users = database[\"users\"]\n"
      ]
    },
    {
      "cell_type": "markdown",
      "metadata": {
        "id": "nFEbzlDMeVHV"
      },
      "source": [
        "#Run Web"
      ]
    },
    {
      "cell_type": "code",
      "execution_count": null,
      "metadata": {
        "colab": {
          "base_uri": "https://localhost:8080/"
        },
        "id": "rSOierzqjg-x",
        "outputId": "1275db4c-abaf-4037-ba4c-dfd57f46205b"
      },
      "outputs": [
        {
          "name": "stdout",
          "output_type": "stream",
          "text": [
            "nohup: appending output to 'nohup.out'\n"
          ]
        }
      ],
      "source": [
        "!nohup streamlit run app.py --server.port 5011 &"
      ]
    },
    {
      "cell_type": "code",
      "execution_count": null,
      "metadata": {
        "colab": {
          "base_uri": "https://localhost:8080/"
        },
        "id": "kY09fisbduUj",
        "outputId": "8b38d723-81b9-4707-e8e1-29f10f988cbd"
      },
      "outputs": [
        {
          "name": "stdout",
          "output_type": "stream",
          "text": [
            " * Tunnel URL: https://libratory-confined-edmundo.ngrok-free.dev\n"
          ]
        }
      ],
      "source": [
        "from pyngrok import ngrok\n",
        "\n",
        "# Start ngrok tunnel to expose the Streamlit server\n",
        "# Use the 'addr' argument to specify the address and port.\n",
        "ngrok_tunnel = ngrok.connect(addr='5011', proto='http', bind_tls=True)\n",
        "\n",
        "# Print the URL of the ngrok tunnel\n",
        "print(' * Tunnel URL:', ngrok_tunnel.public_url)"
      ]
    },
    {
      "cell_type": "code",
      "execution_count": null,
      "metadata": {
        "id": "khBMUpFlr5UV"
      },
      "outputs": [],
      "source": []
    }
  ],
  "metadata": {
    "colab": {
      "include_colab_link": true,
      "provenance": [],
      "toc_visible": true
    },
    "kernelspec": {
      "display_name": "Python 3",
      "name": "python3"
    },
    "language_info": {
      "name": "python"
    }
  },
  "nbformat": 4,
  "nbformat_minor": 0
}
